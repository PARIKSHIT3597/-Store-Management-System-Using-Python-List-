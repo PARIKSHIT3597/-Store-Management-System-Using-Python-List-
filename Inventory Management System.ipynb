{
 "cells": [
  {
   "cell_type": "code",
   "execution_count": 4,
   "id": "fa2d458f",
   "metadata": {},
   "outputs": [
    {
     "name": "stdout",
     "output_type": "stream",
     "text": [
      "Please Enter Your NAME: Harshit\n",
      "Please Enter Your Phone Number: 8958254050\n",
      "Please Enter Your Mail ID: harshitrautela3642@gmail.com\n",
      "Please Enter The Product ID: 1\n",
      "Please Enter The Quantity Of The Product: 4\n",
      "-----------------------------\n",
      "Product Name  :  5 Star\n",
      "Price         :  5\n",
      "Quantity      :  4\n",
      "-----------------------------\n",
      "Billing Amount:  20\n",
      "-----------------------------\n",
      "Inventory Updated\n"
     ]
    }
   ],
   "source": [
    "import time\n",
    "\n",
    "# Reading the Inventory\n",
    "fd = open(\"Inventory.txt\", \"r\")\n",
    "products = fd.read().split(\"\\n\")\n",
    "fd.close()\n",
    "\n",
    "# Taking User Input\n",
    "username = input(\"Please Enter Your NAME: \")\n",
    "phone = input(\"Please Enter Your Phone Number: \")\n",
    "mail = input(\"Please Enter Your Mail ID: \")\n",
    "Product_ID = input(\"Please Enter The Product ID: \")\n",
    "Product_Quantity = input(\"Please Enter The Quantity Of The Product: \")\n",
    "\n",
    "updated_product_lst = []\n",
    "\n",
    "# Going through Each Product Detail\n",
    "for product in products:\n",
    "    product_details = product.split(\",\")\n",
    "    \n",
    "    if product_details[0] == Product_ID:\n",
    "        \n",
    "        # Checking if Product Exists Or Not\n",
    "        if int(Product_Quantity) <= int(product_details[3]):\n",
    "            # If We have Enough Quantity \n",
    "            \n",
    "            print(\"-----------------------------\")\n",
    "            print(\"Product Name  : \", product_details[1])\n",
    "            print(\"Price         : \", product_details[2])\n",
    "            print(\"Quantity      : \", Product_Quantity)\n",
    "            print(\"-----------------------------\")\n",
    "            print(\"Billing Amount: \", int(Product_Quantity) * int(product_details[2]))\n",
    "            print(\"-----------------------------\")\n",
    "            \n",
    "            # Updating Inventory List\n",
    "            product_details[3] = str(int(product_details[3]) - int(Product_Quantity))\n",
    "            \n",
    "            # Generating Sales In Sales.txt\n",
    "            fd = open(\"Sales.txt\", \"a\")\n",
    "            sales_detail = username + \",\" + phone + \",\" + mail + \",\" + product_details[1] + \",\" + Product_ID + \",\" + product_details[3] + \",\" + str(int(product_details[3]) * int(product_details[2])) + \",\" + time.ctime() + \"\\n\"\n",
    "            fd.write(sales_detail)\n",
    "            fd.close()\n",
    "            \n",
    "        else:\n",
    "            print(\"Thanks\")\n",
    "    \n",
    "    # Updating My Inventory List\n",
    "    updated_product_lst.append(product_details)\n",
    "\n",
    "lst = []\n",
    "\n",
    "# Updating My Inventory String\n",
    "for i in updated_product_lst:\n",
    "    prod = i[0] + \",\" + i[1] + \",\" + i[2] + \",\" + i[3] + \"\\n\"\n",
    "    lst.append(prod)\n",
    "    \n",
    "# Removing Last \\n From The List\n",
    "lst[-1] = lst[-1][:-1]\n",
    "\n",
    "# Updating Inventory File\n",
    "fd = open(\"Inventory.txt\", \"w\")\n",
    "\n",
    "for i in lst:\n",
    "    fd.write(i)\n",
    "fd.close()\n",
    "\n",
    "print(\"Inventory Updated\")\n"
   ]
  },
  {
   "cell_type": "code",
   "execution_count": null,
   "id": "c2fbec32",
   "metadata": {},
   "outputs": [],
   "source": []
  },
  {
   "cell_type": "code",
   "execution_count": null,
   "id": "70f16399",
   "metadata": {},
   "outputs": [],
   "source": []
  }
 ],
 "metadata": {
  "kernelspec": {
   "display_name": "Python 3 (ipykernel)",
   "language": "python",
   "name": "python3"
  },
  "language_info": {
   "codemirror_mode": {
    "name": "ipython",
    "version": 3
   },
   "file_extension": ".py",
   "mimetype": "text/x-python",
   "name": "python",
   "nbconvert_exporter": "python",
   "pygments_lexer": "ipython3",
   "version": "3.11.5"
  }
 },
 "nbformat": 4,
 "nbformat_minor": 5
}
